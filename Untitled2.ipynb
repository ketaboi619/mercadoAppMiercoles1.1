{
  "nbformat": 4,
  "nbformat_minor": 0,
  "metadata": {
    "colab": {
      "provenance": [],
      "authorship_tag": "ABX9TyPO12aIXpITDQei8OvDtlK+",
      "include_colab_link": true
    },
    "kernelspec": {
      "name": "python3",
      "display_name": "Python 3"
    },
    "language_info": {
      "name": "python"
    }
  },
  "cells": [
    {
      "cell_type": "markdown",
      "metadata": {
        "id": "view-in-github",
        "colab_type": "text"
      },
      "source": [
        "<a href=\"https://colab.research.google.com/github/ketaboi619/mercadoAppMiercoles1.1/blob/main/Untitled2.ipynb\" target=\"_parent\"><img src=\"https://colab.research.google.com/assets/colab-badge.svg\" alt=\"Open In Colab\"/></a>"
      ]
    },
    {
      "cell_type": "code",
      "execution_count": null,
      "metadata": {
        "id": "TzdiATwVQfpv"
      },
      "outputs": [],
      "source": [
        "#funcionesPieza\n",
        "\n",
        "\n",
        "def crearPieza (id,referencia,descripcion,precio,numeroPiezasDefectuosas,numeroPiezasFabricadas):\n",
        "\n",
        "  pieza = {\n",
        "      'id':id,\n",
        "      'referencia':referencia,\n",
        "      'descripcion': descripcion,\n",
        "      'precio': precio,\n",
        "      'numeroPiezasDefectuosas': numeroPiezasDefectuosas,\n",
        "      'numeroPiezasFabricadas': numeroPiezasFabricadas\n",
        "\n",
        "  }\n",
        "\n",
        "  return pieza\n",
        "\n",
        "\n",
        "\n",
        "def guardarPieza (lote,pieza)\n",
        " lote.append(pieza)\n",
        " return lote\n",
        "\n",
        "\n",
        "\n",
        "def mostrarLote(lote)\n",
        "for pieza in lote:\n",
        "  print(pieza)\n",
        "\n",
        "\n",
        "\n",
        "\n",
        "\n",
        "\n",
        "\n",
        "\n",
        "\n",
        "\n",
        "\n",
        "\n",
        "\n",
        "\n",
        "\n",
        "\n",
        "\n",
        "\n",
        "\n"
      ]
    },
    {
      "cell_type": "code",
      "source": [],
      "metadata": {
        "id": "9PUdErwGVYfk"
      },
      "execution_count": null,
      "outputs": []
    },
    {
      "cell_type": "markdown",
      "source": [
        "# Nueva sección"
      ],
      "metadata": {
        "id": "YmbuBulyTrhA"
      }
    },
    {
      "cell_type": "code",
      "source": [],
      "metadata": {
        "id": "oGkDdVOGTe0h"
      },
      "execution_count": null,
      "outputs": []
    }
  ]
}